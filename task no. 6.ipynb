{
 "cells": [
  {
   "cell_type": "code",
   "execution_count": 9,
   "id": "407112c2-7854-41b9-bf16-1afe5055832e",
   "metadata": {},
   "outputs": [
    {
     "name": "stdout",
     "output_type": "stream",
     "text": [
      "Saved 40 books to books.csv\n"
     ]
    }
   ],
   "source": [
    "import requests\n",
    "from bs4 import BeautifulSoup\n",
    "import csv\n",
    "\n",
    "all_books = []\n",
    "\n",
    "for page in range(1, 3): \n",
    "    if page == 1:\n",
    "        url = \"http://books.toscrape.com/catalogue/page-1.html\"\n",
    "    else:\n",
    "        url = f\"http://books.toscrape.com/catalogue/page-{page}.html\"\n",
    "\n",
    "    res = requests.get(url)\n",
    "    if res.status_code != 200:\n",
    "        print(\"Error fetching page\", page)\n",
    "        continue\n",
    "\n",
    "    soup = BeautifulSoup(res.text, \"html.parser\")\n",
    "    books = soup.find_all(\"article\", class_=\"product_pod\")\n",
    "\n",
    "    for b in books:\n",
    "        title = b.h3.a[\"title\"]\n",
    "        price = b.find(\"p\", class_=\"price_color\").text.strip()\n",
    "        all_books.append({\"title\": title, \"price\": price})\n",
    "\n",
    "with open(\"books.csv\", \"w\", newline=\"\", encoding=\"utf-8\") as f:\n",
    "    writer = csv.DictWriter(f, fieldnames=[\"title\", \"price\"])\n",
    "    writer.writeheader()\n",
    "    for book in all_books:\n",
    "        writer.writerow(book)\n",
    "\n",
    "print(f\"Saved {len(all_books)} books to books.csv\")\n"
   ]
  },
  {
   "cell_type": "code",
   "execution_count": 16,
   "id": "0dbd89d2-ce13-4e6f-bd3b-37599985fb3f",
   "metadata": {},
   "outputs": [
    {
     "name": "stdout",
     "output_type": "stream",
     "text": [
      "Mumbai: +27°C, Mist\n",
      "washington: +23°C, Sunny\n",
      "green gables: +31°C, Thundery outbreaks in nearby\n",
      "texas: +26°C, Sunny\n",
      "chicago: +27°C, Cloudy\n"
     ]
    }
   ],
   "source": [
    "import requests\n",
    "from bs4 import BeautifulSoup\n",
    "import csv\n",
    "\n",
    "cities = [\"Mumbai\", \"washington\", \"green gables\", \"texas\", \"chicago\"]\n",
    "\n",
    "with open(\"weather_data.csv\", mode=\"w\", newline=\"\", encoding=\"utf-8\") as file:\n",
    "    writer = csv.writer(file)\n",
    "    writer.writerow([\"City\", \"Temperature\", \"Description\"])  # CSV header\n",
    "\n",
    "    for city in cities:\n",
    "        url = f\"https://wttr.in/{city}?format=%t+%C\"\n",
    "        response = requests.get(url)\n",
    "\n",
    "        if response.status_code == 200:\n",
    "            data = response.text.strip().split(\" \", 1)  # Split into temp & description\n",
    "            temperature = data[0]\n",
    "            description = data[1] if len(data) > 1 else \"N/A\"\n",
    "\n",
    "            print(f\"{city}: {temperature}, {description}\")\n",
    "            writer.writerow([city, temperature, description])\n",
    "        else:\n",
    "            print(f\"Failed to retrieve data for {city}\")\n"
   ]
  },
  {
   "cell_type": "code",
   "execution_count": 6,
   "id": "64f88a55-02d6-4092-acf4-6e71a1c4f44a",
   "metadata": {},
   "outputs": [
    {
     "name": "stdout",
     "output_type": "stream",
     "text": [
      "Error loading page 2\n",
      "Error loading page 3\n",
      "Saved 100 jobs to jobs.csv\n"
     ]
    }
   ],
   "source": [
    "import requests\n",
    "from bs4 import BeautifulSoup\n",
    "import csv\n",
    "\n",
    "jobs = []\n",
    "\n",
    "for page in range(1, 4):  \n",
    "    if page == 1:\n",
    "        url = \"https://realpython.github.io/fake-jobs/\"\n",
    "    else:\n",
    "        url = f\"https://realpython.github.io/fake-jobs/page-{page}.html\"\n",
    "\n",
    "    r = requests.get(url)\n",
    "    if r.status_code != 200:\n",
    "        print(\"Error loading page\", page)\n",
    "        continue\n",
    "\n",
    "    soup = BeautifulSoup(r.text, \"html.parser\")\n",
    "    cards = soup.find_all(\"div\", class_=\"card-content\")\n",
    "\n",
    "    for card in cards:\n",
    "        title = card.find(\"h2\", class_=\"title\").text.strip()\n",
    "        company = card.find(\"h3\", class_=\"company\").text.strip()\n",
    "        location = card.find(\"p\", class_=\"location\").text.strip()\n",
    "        jobs.append({\"title\": title, \"company\": company, \"location\": location})\n",
    "\n",
    "with open(\"jobs.csv\", \"w\", newline=\"\", encoding=\"utf-8\") as f:\n",
    "    writer = csv.DictWriter(f, fieldnames=[\"title\", \"company\", \"location\"])\n",
    "    writer.writeheader()\n",
    "    for j in jobs:\n",
    "        writer.writerow(j)\n",
    "\n",
    "print(\"Saved\", len(jobs), \"jobs to jobs.csv\")\n"
   ]
  }
 ],
 "metadata": {
  "kernelspec": {
   "display_name": "Python 3 (ipykernel)",
   "language": "python",
   "name": "python3"
  },
  "language_info": {
   "codemirror_mode": {
    "name": "ipython",
    "version": 3
   },
   "file_extension": ".py",
   "mimetype": "text/x-python",
   "name": "python",
   "nbconvert_exporter": "python",
   "pygments_lexer": "ipython3",
   "version": "3.13.5"
  }
 },
 "nbformat": 4,
 "nbformat_minor": 5
}
